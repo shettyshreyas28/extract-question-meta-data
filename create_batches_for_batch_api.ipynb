{
 "cells": [
  {
   "cell_type": "code",
   "execution_count": 1,
   "metadata": {},
   "outputs": [],
   "source": [
    "import json\n",
    "import pandas as pd"
   ]
  },
  {
   "cell_type": "code",
   "execution_count": 2,
   "metadata": {},
   "outputs": [],
   "source": [
    "from bs4 import BeautifulSoup\n",
    "from utils import initial_cleanup"
   ]
  },
  {
   "cell_type": "markdown",
   "metadata": {},
   "source": [
    "### Load the dataset"
   ]
  },
  {
   "cell_type": "code",
   "execution_count": 3,
   "metadata": {},
   "outputs": [],
   "source": [
    "dataset = pd.read_csv('difficulty_dataset_generated.csv')"
   ]
  },
  {
   "cell_type": "code",
   "execution_count": 4,
   "metadata": {},
   "outputs": [
    {
     "data": {
      "text/plain": [
       "(1438982, 10)"
      ]
     },
     "execution_count": 4,
     "metadata": {},
     "output_type": "execute_result"
    }
   ],
   "source": [
    "dataset.shape"
   ]
  },
  {
   "cell_type": "code",
   "execution_count": 5,
   "metadata": {},
   "outputs": [
    {
     "data": {
      "text/plain": [
       "Index(['qb_id', 'student_class', 'qb_topic', 'qb_subtopic', 'subject_code',\n",
       "       'question_type', 'difficulty_level', 'qns_content', 'options',\n",
       "       'difficulty_percentile'],\n",
       "      dtype='object')"
      ]
     },
     "execution_count": 5,
     "metadata": {},
     "output_type": "execute_result"
    }
   ],
   "source": [
    "dataset.columns"
   ]
  },
  {
   "cell_type": "code",
   "execution_count": 6,
   "metadata": {},
   "outputs": [],
   "source": [
    "qns_content_and_options = dataset[['qns_content', 'options']]"
   ]
  },
  {
   "cell_type": "code",
   "execution_count": 7,
   "metadata": {},
   "outputs": [
    {
     "name": "stderr",
     "output_type": "stream",
     "text": [
      "/var/folders/66/c52cpyd96fz86hwz9gjlj5w40000gp/T/ipykernel_86919/2169375847.py:1: SettingWithCopyWarning: \n",
      "A value is trying to be set on a copy of a slice from a DataFrame\n",
      "\n",
      "See the caveats in the documentation: https://pandas.pydata.org/pandas-docs/stable/user_guide/indexing.html#returning-a-view-versus-a-copy\n",
      "  qns_content_and_options.drop_duplicates(inplace=True)\n"
     ]
    }
   ],
   "source": [
    "qns_content_and_options.drop_duplicates(inplace=True)"
   ]
  },
  {
   "cell_type": "code",
   "execution_count": 8,
   "metadata": {},
   "outputs": [
    {
     "data": {
      "text/plain": [
       "(807480, 2)"
      ]
     },
     "execution_count": 8,
     "metadata": {},
     "output_type": "execute_result"
    }
   ],
   "source": [
    "qns_content_and_options.shape"
   ]
  },
  {
   "cell_type": "code",
   "execution_count": 9,
   "metadata": {},
   "outputs": [
    {
     "data": {
      "text/html": [
       "<div>\n",
       "<style scoped>\n",
       "    .dataframe tbody tr th:only-of-type {\n",
       "        vertical-align: middle;\n",
       "    }\n",
       "\n",
       "    .dataframe tbody tr th {\n",
       "        vertical-align: top;\n",
       "    }\n",
       "\n",
       "    .dataframe thead th {\n",
       "        text-align: right;\n",
       "    }\n",
       "</style>\n",
       "<table border=\"1\" class=\"dataframe\">\n",
       "  <thead>\n",
       "    <tr style=\"text-align: right;\">\n",
       "      <th></th>\n",
       "      <th>qns_content</th>\n",
       "      <th>options</th>\n",
       "    </tr>\n",
       "  </thead>\n",
       "  <tbody>\n",
       "    <tr>\n",
       "      <th>0</th>\n",
       "      <td>\"If&amp;nbsp;&lt;img alt=\\\"\\\\vec c = \\\\vec a - \\\\vec ...</td>\n",
       "      <td>[\"c = a &amp;ndash; b\",\"c &amp;gt; a; c &amp;gt; b\",\"c = a...</td>\n",
       "    </tr>\n",
       "    <tr>\n",
       "      <th>1</th>\n",
       "      <td>\"Three forces are acting on a body to make res...</td>\n",
       "      <td>[\"3N, 3N, 7N\",\"10N, 8N, 2N\",\"3N, 3N, 6N\",\"6N, ...</td>\n",
       "    </tr>\n",
       "    <tr>\n",
       "      <th>2</th>\n",
       "      <td>\"&lt;div style=\\\"text-align:justify\\\"&gt;A particle ...</td>\n",
       "      <td>[\"&lt;img alt=\\\"\\\\frac{{19}}{3}m\\\" src=\\\"16619317...</td>\n",
       "    </tr>\n",
       "    <tr>\n",
       "      <th>3</th>\n",
       "      <td>\"A boat is moving in direction of vector &lt;img ...</td>\n",
       "      <td>[\"&lt;img alt=\\\" - 8\\\\hat i - 6\\\\hat j\\\" src=\\\"15...</td>\n",
       "    </tr>\n",
       "    <tr>\n",
       "      <th>5</th>\n",
       "      <td>\"Acceleration v\\/s time graph for a particle m...</td>\n",
       "      <td>[\"t = 0, 1, 2, 3, 4\",\"t = 0, 2, 4\",\"t = 1, 3\",...</td>\n",
       "    </tr>\n",
       "  </tbody>\n",
       "</table>\n",
       "</div>"
      ],
      "text/plain": [
       "                                         qns_content  \\\n",
       "0  \"If&nbsp;<img alt=\\\"\\\\vec c = \\\\vec a - \\\\vec ...   \n",
       "1  \"Three forces are acting on a body to make res...   \n",
       "2  \"<div style=\\\"text-align:justify\\\">A particle ...   \n",
       "3  \"A boat is moving in direction of vector <img ...   \n",
       "5  \"Acceleration v\\/s time graph for a particle m...   \n",
       "\n",
       "                                             options  \n",
       "0  [\"c = a &ndash; b\",\"c &gt; a; c &gt; b\",\"c = a...  \n",
       "1  [\"3N, 3N, 7N\",\"10N, 8N, 2N\",\"3N, 3N, 6N\",\"6N, ...  \n",
       "2  [\"<img alt=\\\"\\\\frac{{19}}{3}m\\\" src=\\\"16619317...  \n",
       "3  [\"<img alt=\\\" - 8\\\\hat i - 6\\\\hat j\\\" src=\\\"15...  \n",
       "5  [\"t = 0, 1, 2, 3, 4\",\"t = 0, 2, 4\",\"t = 1, 3\",...  "
      ]
     },
     "execution_count": 9,
     "metadata": {},
     "output_type": "execute_result"
    }
   ],
   "source": [
    "qns_content_and_options.head()"
   ]
  },
  {
   "cell_type": "code",
   "execution_count": 10,
   "metadata": {},
   "outputs": [
    {
     "name": "stdout",
     "output_type": "stream",
     "text": [
      "\"If&nbsp;<img alt=\\\"\\\\vec c = \\\\vec a - \\\\vec b\\\" src=\\\"1501045229lqPVHqk7ni.png\\\" \\/>, which of the following relations among magnitudes cannot be achieved by any choice of&nbsp;<img alt=\\\"\\\\vec a\\\" src=\\\"1501045229oznIjIJLIn.png\\\" \\/>&nbsp;and&nbsp;<img alt=\\\"\\\\vec b\\\" src=\\\"1501045229R4rF9t0EaK.png\\\" \\/>?\"\n",
      "[\"c = a &ndash; b\",\"c &gt; a; c &gt; b\",\"c = a + b\",\"c &lt; a &ndash; b\"]\n"
     ]
    }
   ],
   "source": [
    "row = qns_content_and_options.iloc[0]\n",
    "qns_content, qns_options = row['qns_content'], row['options']\n",
    "print(qns_content)\n",
    "print(qns_options)"
   ]
  },
  {
   "cell_type": "markdown",
   "metadata": {},
   "source": [
    "### Preparing dataset for batch api"
   ]
  },
  {
   "cell_type": "code",
   "execution_count": 11,
   "metadata": {},
   "outputs": [],
   "source": [
    "question_description_prompt = \"\"\"You are an expert in the Class 11 and Class 12 syllabus for competitive exams in India. Given a question extract the attributes of the question that make it difficult. If there are images in the question or options they will be provided. Respond only in a json in the format below.\n",
    "{\n",
    "  'sentence_complexity' : 1-question is phrased in simple language, 2-question is moderately complex, 3-question phrasing is intentionally complex,\n",
    "  'keywords'       : [list of keywords in the question],\n",
    "  'related_topics' : [list of related topics to the question],\n",
    "  'number_of_greek_and_math_symbols_in_question' : number of greek and math symbols in question,\n",
    "  'number_of_greek_and_math_symbols_in_options' : number of mathematical equations in the options,\n",
    "  'number_of_graphs_in_question' : number of graphs in question,\n",
    "  'number_of_graphs_in_options' : number of graphs in options,\n",
    "  'multi_step_reasoning_required' : yes/no,\n",
    "  'options_similarity' : 1(options are different from each other), 2(options are moderately different), 3(options are extremely confusing),\n",
    "  'conceptual_depth_required' : ['recall', 'application', 'analysis', 'synthesis', 'evaluation'],\n",
    "  'complex_calculation_required' : yes/no,\n",
    "  'reasoning_type' : direct/indirect,\n",
    "  'question_image_description' : describe the image in the question. if it contains equations return latex format output. empty if no image,\n",
    "  'option_image_description' : [list of descriptions of images in the options, if it contains equations return latex format output. empty if no image]\n",
    "}\"\"\""
   ]
  },
  {
   "cell_type": "code",
   "execution_count": 12,
   "metadata": {},
   "outputs": [],
   "source": [
    "def get_image_urls(html_string):\n",
    "    html_string = initial_cleanup(html_string)\n",
    "    index = html_string.find('<div')\n",
    "    if not(index == 0 or index == 1):\n",
    "        html_string = '<div>' + html_string + '</div>'\n",
    "    \n",
    "    soup = BeautifulSoup(html_string, 'html.parser')\n",
    "    image_tags = soup.find_all('img')\n",
    "    \n",
    "    # Only include URLs where the img tag doesn't have an alt attribute\n",
    "    img_urls = [img['src'] for img in image_tags if not img.has_attr('alt')]\n",
    "    return img_urls"
   ]
  },
  {
   "cell_type": "markdown",
   "metadata": {},
   "source": [
    "### Test image urls code"
   ]
  },
  {
   "cell_type": "code",
   "execution_count": 13,
   "metadata": {},
   "outputs": [
    {
     "name": "stdout",
     "output_type": "stream",
     "text": [
      "\"If&nbsp;<img alt=\\\"\\\\vec c = \\\\vec a - \\\\vec b\\\" src=\\\"1501045229lqPVHqk7ni.png\\\" \\/>, which of the following relations among magnitudes cannot be achieved by any choice of&nbsp;<img alt=\\\"\\\\vec a\\\" src=\\\"1501045229oznIjIJLIn.png\\\" \\/>&nbsp;and&nbsp;<img alt=\\\"\\\\vec b\\\" src=\\\"1501045229R4rF9t0EaK.png\\\" \\/>?\"\n",
      "[]\n"
     ]
    }
   ],
   "source": [
    "print(qns_content)\n",
    "print(get_image_urls(qns_content))"
   ]
  },
  {
   "cell_type": "code",
   "execution_count": 14,
   "metadata": {},
   "outputs": [],
   "source": [
    "def options_image_urls(options):\n",
    "    options = eval(options)\n",
    "    img_urls = []\n",
    "    for option in options:\n",
    "        img_urls.extend(get_image_urls(option))\n",
    "    return img_urls"
   ]
  },
  {
   "cell_type": "code",
   "execution_count": 15,
   "metadata": {},
   "outputs": [
    {
     "name": "stdout",
     "output_type": "stream",
     "text": [
      "[\"c = a &ndash; b\",\"c &gt; a; c &gt; b\",\"c = a + b\",\"c &lt; a &ndash; b\"]\n",
      "[]\n"
     ]
    }
   ],
   "source": [
    "print(qns_options)\n",
    "print(options_image_urls(qns_options))"
   ]
  },
  {
   "cell_type": "code",
   "execution_count": 16,
   "metadata": {},
   "outputs": [],
   "source": [
    "def get_urls(question, options):\n",
    "    img_urls = []\n",
    "    img_urls.extend(get_image_urls(question))\n",
    "    img_urls.extend(options_image_urls(options))\n",
    "    return img_urls"
   ]
  },
  {
   "cell_type": "code",
   "execution_count": 17,
   "metadata": {},
   "outputs": [],
   "source": [
    "def attach_prefix(img_urls, prefix='https://d2lbh14zkcqlst.cloudfront.net/content_data/content_images/'):\n",
    "    urls = []\n",
    "    for img_url in img_urls:\n",
    "        if prefix in img_url:\n",
    "            urls.append(img_url)\n",
    "        else:\n",
    "            urls.append(prefix + img_url)\n",
    "    return urls"
   ]
  },
  {
   "cell_type": "markdown",
   "metadata": {},
   "source": [
    "### Test the attach_prefix code"
   ]
  },
  {
   "cell_type": "code",
   "execution_count": 18,
   "metadata": {},
   "outputs": [
    {
     "data": {
      "text/plain": [
       "['https://d2lbh14zkcqlst.cloudfront.net/content_data/content_images/1673608527588314775phplV0tBhimage.png',\n",
       " 'https://d2lbh14zkcqlst.cloudfront.net/content_data/content_images/16736085481010609036.png',\n",
       " 'https://d2lbh14zkcqlst.cloudfront.net/content_data/content_images/1673608552290044040.png']"
      ]
     },
     "execution_count": 18,
     "metadata": {},
     "output_type": "execute_result"
    }
   ],
   "source": [
    "img_urls = ['1673608527588314775phplV0tBhimage.png', '16736085481010609036.png', '1673608552290044040.png']\n",
    "attach_prefix(img_urls)"
   ]
  },
  {
   "cell_type": "code",
   "execution_count": 19,
   "metadata": {},
   "outputs": [
    {
     "data": {
      "text/plain": [
       "['https://d2lbh14zkcqlst.cloudfront.net/content_data/content_images/1673608527588314775phplV0tBhimage.png',\n",
       " 'https://d2lbh14zkcqlst.cloudfront.net/content_data/content_images/16736085481010609036.png',\n",
       " 'https://d2lbh14zkcqlst.cloudfront.net/content_data/content_images/1673608552290044040.png']"
      ]
     },
     "execution_count": 19,
     "metadata": {},
     "output_type": "execute_result"
    }
   ],
   "source": [
    "img_urls = ['https://d2lbh14zkcqlst.cloudfront.net/content_data/content_images/1673608527588314775phplV0tBhimage.png', '16736085481010609036.png', '1673608552290044040.png']\n",
    "attach_prefix(img_urls)"
   ]
  },
  {
   "cell_type": "markdown",
   "metadata": {},
   "source": [
    "### Create batch dataset"
   ]
  },
  {
   "cell_type": "code",
   "execution_count": 20,
   "metadata": {},
   "outputs": [
    {
     "name": "stdout",
     "output_type": "stream",
     "text": [
      "17\n"
     ]
    }
   ],
   "source": [
    "num_questions = qns_content_and_options.shape[0]\n",
    "batch_size = 49500\n",
    "num_batches = 1 + (num_questions // batch_size)\n",
    "print(num_batches)"
   ]
  },
  {
   "cell_type": "code",
   "execution_count": 21,
   "metadata": {},
   "outputs": [
    {
     "name": "stdout",
     "output_type": "stream",
     "text": [
      "Done creating tasks. Saved to file\n",
      "Done creating tasks. Saved to file\n",
      "Done creating tasks. Saved to file\n",
      "Done creating tasks. Saved to file\n",
      "Done creating tasks. Saved to file\n",
      "Done creating tasks. Saved to file\n",
      "Done creating tasks. Saved to file\n",
      "Done creating tasks. Saved to file\n",
      "Done creating tasks. Saved to file\n",
      "Done creating tasks. Saved to file\n",
      "Done creating tasks. Saved to file\n",
      "Done creating tasks. Saved to file\n",
      "Done creating tasks. Saved to file\n",
      "Done creating tasks. Saved to file\n",
      "Done creating tasks. Saved to file\n",
      "Done creating tasks. Saved to file\n",
      "Done creating tasks. Saved to file\n"
     ]
    }
   ],
   "source": [
    "num_urls = 0\n",
    "for batch in range(num_batches):\n",
    "    tasks = []\n",
    "    start = batch * batch_size\n",
    "    end = (batch + 1) * batch_size\n",
    "    batch_questions = qns_content_and_options[start:end]\n",
    "    index = 0\n",
    "    for idx, row in batch_questions.iterrows():\n",
    "        question = row['qns_content']\n",
    "        options = row['options']\n",
    "        img_urls = get_urls(question, options)\n",
    "        img_urls = attach_prefix(img_urls)\n",
    "        num_urls += len(img_urls)\n",
    "        content = [\n",
    "                    {\n",
    "                        \"type\": \"text\",\n",
    "                        \"text\": f'question_content: {question}\\noptions: {options}'\n",
    "                    }\n",
    "                ]\n",
    "        d = []\n",
    "        for img_url in img_urls:\n",
    "            d.append({'type' : 'image_url', 'image_url' : {'url' : img_url, 'detail' : 'low'}})\n",
    "        if d:\n",
    "            content.extend(d) \n",
    "        task = {\n",
    "            \"custom_id\": f\"task-{batch+1}-{index}\",\n",
    "            \"method\": \"POST\",\n",
    "            \"url\": \"/v1/chat/completions\",\n",
    "            \"body\": {\n",
    "                    \"model\" :\"gpt-4o-mini\",\n",
    "                    \"temperature\" : 0.1,\n",
    "                    \"max_tokens\" : 500,\n",
    "                    \"response_format\" : { \n",
    "                    \"type\": \"json_object\"\n",
    "                    },\n",
    "                    \"messages\" :[\n",
    "                    {\n",
    "                        \"role\": \"system\",\n",
    "                        \"content\": question_description_prompt\n",
    "                    },\n",
    "                    {\n",
    "                        \"role\": \"user\",\n",
    "                        \"content\": content\n",
    "                    }\n",
    "                ],\n",
    "            }\n",
    "        }\n",
    "        tasks.append(task)\n",
    "        index += 1\n",
    "\n",
    "    # Creating the file\n",
    "    file_name = f\"data_for_extraction/batch_tasks_dn_batch_{batch+1}.jsonl\"\n",
    "\n",
    "    with open(file_name, \"w\") as file:\n",
    "        for obj in tasks:\n",
    "            file.write(json.dumps(obj) + \"\\n\")\n",
    "    print(\"Done creating tasks. Saved to file\")"
   ]
  },
  {
   "cell_type": "code",
   "execution_count": 22,
   "metadata": {},
   "outputs": [
    {
     "data": {
      "text/plain": [
       "276649"
      ]
     },
     "execution_count": 22,
     "metadata": {},
     "output_type": "execute_result"
    }
   ],
   "source": [
    "num_urls"
   ]
  },
  {
   "cell_type": "code",
   "execution_count": null,
   "metadata": {},
   "outputs": [],
   "source": []
  }
 ],
 "metadata": {
  "kernelspec": {
   "display_name": "annotation",
   "language": "python",
   "name": "python3"
  },
  "language_info": {
   "codemirror_mode": {
    "name": "ipython",
    "version": 3
   },
   "file_extension": ".py",
   "mimetype": "text/x-python",
   "name": "python",
   "nbconvert_exporter": "python",
   "pygments_lexer": "ipython3",
   "version": "3.11.9"
  }
 },
 "nbformat": 4,
 "nbformat_minor": 2
}
